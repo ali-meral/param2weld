{
 "cells": [
  {
   "cell_type": "code",
   "execution_count": 6,
   "id": "af21ccf2",
   "metadata": {},
   "outputs": [
    {
     "name": "stdout",
     "output_type": "stream",
     "text": [
      "/home/ameral/master/param2weld\n"
     ]
    }
   ],
   "source": [
    "%cd .."
   ]
  },
  {
   "cell_type": "markdown",
   "id": "78b55ada",
   "metadata": {},
   "source": [
    "### Tune Hyperparams with Optuna"
   ]
  },
  {
   "cell_type": "code",
   "execution_count": 7,
   "id": "e453c9b5",
   "metadata": {},
   "outputs": [
    {
     "name": "stdout",
     "output_type": "stream",
     "text": [
      "fixed_mean_mae80_ssim20.json  fixed_median_mae80_ssim20.json\n"
     ]
    }
   ],
   "source": [
    "!ls experiments/optuna/configs/"
   ]
  },
  {
   "cell_type": "code",
   "execution_count": 9,
   "id": "5b9171ec",
   "metadata": {},
   "outputs": [
    {
     "name": "stdout",
     "output_type": "stream",
     "text": [
      "2025-07-03 21:03:49.972895: I external/local_xla/xla/tsl/cuda/cudart_stub.cc:32] Could not find cuda drivers on your machine, GPU will not be used.\n",
      "2025-07-03 21:03:49.976704: I external/local_xla/xla/tsl/cuda/cudart_stub.cc:32] Could not find cuda drivers on your machine, GPU will not be used.\n",
      "2025-07-03 21:03:49.986751: E external/local_xla/xla/stream_executor/cuda/cuda_fft.cc:467] Unable to register cuFFT factory: Attempting to register factory for plugin cuFFT when one has already been registered\n",
      "WARNING: All log messages before absl::InitializeLog() is called are written to STDERR\n",
      "E0000 00:00:1751569430.003196 1857016 cuda_dnn.cc:8579] Unable to register cuDNN factory: Attempting to register factory for plugin cuDNN when one has already been registered\n",
      "E0000 00:00:1751569430.008316 1857016 cuda_blas.cc:1407] Unable to register cuBLAS factory: Attempting to register factory for plugin cuBLAS when one has already been registered\n",
      "W0000 00:00:1751569430.020865 1857016 computation_placer.cc:177] computation placer already registered. Please check linkage and avoid linking the same target more than once.\n",
      "W0000 00:00:1751569430.020889 1857016 computation_placer.cc:177] computation placer already registered. Please check linkage and avoid linking the same target more than once.\n",
      "W0000 00:00:1751569430.020892 1857016 computation_placer.cc:177] computation placer already registered. Please check linkage and avoid linking the same target more than once.\n",
      "W0000 00:00:1751569430.020896 1857016 computation_placer.cc:177] computation placer already registered. Please check linkage and avoid linking the same target more than once.\n",
      "2025-07-03 21:03:50.024004: I tensorflow/core/platform/cpu_feature_guard.cc:210] This TensorFlow binary is optimized to use available CPU instructions in performance-critical operations.\n",
      "To enable the following instructions: AVX2 FMA, in other operations, rebuild TensorFlow with the appropriate compiler flags.\n",
      "\u001b[32m[I 2025-07-03 21:03:53,291]\u001b[0m A new study created in memory with name: no-name-8042a049-31a4-4455-8f82-e261288db561\u001b[0m\n",
      "2025-07-03 21:03:55.216800: E external/local_xla/xla/stream_executor/cuda/cuda_platform.cc:51] failed call to cuInit: INTERNAL: CUDA error: Failed call to cuInit: UNKNOWN ERROR (303)\n",
      "\u001b[32m[I 2025-07-03 21:05:43,239]\u001b[0m Trial 0 finished with value: 0.028907347470521927 and parameters: {'dropout': 0.300941388600529, 'dense_units': 2048, 'f_block1': 32, 'f_block2': 32, 'l2_reg': 6.782437520435417e-06, 'batch_size': 32}. Best is trial 0 with value: 0.028907347470521927.\u001b[0m\n",
      "\u001b[32m[I 2025-07-03 21:06:57,674]\u001b[0m Trial 1 finished with value: 0.02805767022073269 and parameters: {'dropout': 0.02412112250411265, 'dense_units': 1024, 'f_block1': 32, 'f_block2': 8, 'l2_reg': 1.5332412021965457e-06, 'batch_size': 8}. Best is trial 1 with value: 0.02805767022073269.\u001b[0m\n",
      "\u001b[32m[I 2025-07-03 21:09:06,186]\u001b[0m Trial 2 finished with value: 0.027654115110635757 and parameters: {'dropout': 0.031071458769042028, 'dense_units': 4096, 'f_block1': 64, 'f_block2': 16, 'l2_reg': 1.9597848350058617e-05, 'batch_size': 32}. Best is trial 2 with value: 0.027654115110635757.\u001b[0m\n",
      "\u001b[32m[I 2025-07-03 21:10:47,090]\u001b[0m Trial 3 finished with value: 0.0393349751830101 and parameters: {'dropout': 0.3979739721986497, 'dense_units': 2048, 'f_block1': 64, 'f_block2': 8, 'l2_reg': 4.710185541241891e-05, 'batch_size': 16}. Best is trial 2 with value: 0.027654115110635757.\u001b[0m\n",
      "\u001b[32m[I 2025-07-03 21:12:03,311]\u001b[0m Trial 4 finished with value: 0.033258065581321716 and parameters: {'dropout': 0.04760621384667636, 'dense_units': 512, 'f_block1': 32, 'f_block2': 16, 'l2_reg': 3.5513547578543e-06, 'batch_size': 16}. Best is trial 2 with value: 0.027654115110635757.\u001b[0m\n",
      "\u001b[32m[I 2025-07-03 21:13:11,583]\u001b[0m Trial 5 finished with value: 0.0858139619231224 and parameters: {'dropout': 0.13571686969774818, 'dense_units': 128, 'f_block1': 64, 'f_block2': 8, 'l2_reg': 2.5239702607485e-05, 'batch_size': 16}. Best is trial 2 with value: 0.027654115110635757.\u001b[0m\n",
      "\u001b[32m[I 2025-07-03 21:14:22,658]\u001b[0m Trial 6 finished with value: 0.03533070534467697 and parameters: {'dropout': 0.02700887353548409, 'dense_units': 256, 'f_block1': 64, 'f_block2': 16, 'l2_reg': 9.886453150720562e-05, 'batch_size': 8}. Best is trial 2 with value: 0.027654115110635757.\u001b[0m\n",
      "\u001b[32m[I 2025-07-03 21:15:38,771]\u001b[0m Trial 7 finished with value: 0.039916228502988815 and parameters: {'dropout': 0.22033760326566432, 'dense_units': 256, 'f_block1': 32, 'f_block2': 32, 'l2_reg': 4.833682596212122e-06, 'batch_size': 8}. Best is trial 2 with value: 0.027654115110635757.\u001b[0m\n",
      "\u001b[32m[I 2025-07-03 21:16:43,656]\u001b[0m Trial 8 finished with value: 0.03249051421880722 and parameters: {'dropout': 0.05923669314819757, 'dense_units': 512, 'f_block1': 32, 'f_block2': 8, 'l2_reg': 7.682770110415607e-06, 'batch_size': 8}. Best is trial 2 with value: 0.027654115110635757.\u001b[0m\n",
      "\u001b[32m[I 2025-07-03 21:18:13,158]\u001b[0m Trial 9 finished with value: 0.04062744975090027 and parameters: {'dropout': 0.2447801710095211, 'dense_units': 256, 'f_block1': 64, 'f_block2': 8, 'l2_reg': 1.4113566406362645e-05, 'batch_size': 8}. Best is trial 2 with value: 0.027654115110635757.\u001b[0m\n",
      "\u001b[32m[I 2025-07-03 21:18:36,481]\u001b[0m Trial 10 pruned. \u001b[0m\n",
      "\u001b[32m[I 2025-07-03 21:18:55,265]\u001b[0m Trial 11 pruned. \u001b[0m\n",
      "\u001b[32m[I 2025-07-03 21:19:06,949]\u001b[0m Trial 12 finished with value: 0.46982088685035706 and parameters: {'dropout': 0.11253278823942217, 'dense_units': 4096, 'f_block1': 64, 'f_block2': 8, 'l2_reg': 2.0561151742024738e-06, 'batch_size': 32}. Best is trial 2 with value: 0.027654115110635757.\u001b[0m\n",
      "\u001b[32m[I 2025-07-03 21:19:57,862]\u001b[0m Trial 13 finished with value: 0.02833298221230507 and parameters: {'dropout': 0.09165650019745811, 'dense_units': 1024, 'f_block1': 32, 'f_block2': 16, 'l2_reg': 1.0867472168843457e-06, 'batch_size': 8}. Best is trial 2 with value: 0.027654115110635757.\u001b[0m\n",
      "\u001b[32m[I 2025-07-03 21:20:20,495]\u001b[0m Trial 14 pruned. \u001b[0m\n",
      "\u001b[32m[I 2025-07-03 21:21:26,110]\u001b[0m Trial 15 finished with value: 0.027491778135299683 and parameters: {'dropout': 0.0740843123103807, 'dense_units': 4096, 'f_block1': 64, 'f_block2': 8, 'l2_reg': 2.4090212096409552e-06, 'batch_size': 8}. Best is trial 15 with value: 0.027491778135299683.\u001b[0m\n",
      "\u001b[32m[I 2025-07-03 21:21:38,359]\u001b[0m Trial 16 finished with value: 0.46170029044151306 and parameters: {'dropout': 0.07825816804460461, 'dense_units': 4096, 'f_block1': 64, 'f_block2': 16, 'l2_reg': 3.0279234659373162e-06, 'batch_size': 32}. Best is trial 15 with value: 0.027491778135299683.\u001b[0m\n",
      "\u001b[32m[I 2025-07-03 21:21:49,998]\u001b[0m Trial 17 finished with value: 0.469127893447876 and parameters: {'dropout': 0.16397445686351486, 'dense_units': 4096, 'f_block1': 64, 'f_block2': 8, 'l2_reg': 3.028418437156956e-05, 'batch_size': 32}. Best is trial 15 with value: 0.027491778135299683.\u001b[0m\n",
      "\u001b[32m[I 2025-07-03 21:22:46,823]\u001b[0m Trial 18 finished with value: 0.029214417561888695 and parameters: {'dropout': 0.3026688447821244, 'dense_units': 4096, 'f_block1': 64, 'f_block2': 16, 'l2_reg': 1.2467876232213043e-05, 'batch_size': 8}. Best is trial 15 with value: 0.027491778135299683.\u001b[0m\n",
      "\u001b[32m[I 2025-07-03 21:23:12,716]\u001b[0m Trial 19 pruned. \u001b[0m\n",
      "\u001b[32m[I 2025-07-03 21:23:33,599]\u001b[0m Trial 20 pruned. \u001b[0m\n",
      "\u001b[32m[I 2025-07-03 21:24:38,970]\u001b[0m Trial 21 finished with value: 0.03159744665026665 and parameters: {'dropout': 0.03541323191338306, 'dense_units': 1024, 'f_block1': 32, 'f_block2': 8, 'l2_reg': 1.7648476013234046e-06, 'batch_size': 8}. Best is trial 15 with value: 0.027491778135299683.\u001b[0m\n",
      "\u001b[32m[I 2025-07-03 21:25:02,217]\u001b[0m Trial 22 pruned. \u001b[0m\n",
      "\u001b[32m[I 2025-07-03 21:25:32,328]\u001b[0m Trial 23 pruned. \u001b[0m\n",
      "\u001b[32m[I 2025-07-03 21:25:56,970]\u001b[0m Trial 24 pruned. \u001b[0m\n",
      "\u001b[32m[I 2025-07-03 21:26:49,104]\u001b[0m Trial 25 finished with value: 0.02783343195915222 and parameters: {'dropout': 0.06816422981318049, 'dense_units': 2048, 'f_block1': 64, 'f_block2': 16, 'l2_reg': 6.933835222327849e-06, 'batch_size': 8}. Best is trial 15 with value: 0.027491778135299683.\u001b[0m\n",
      "\u001b[32m[I 2025-07-03 21:27:43,422]\u001b[0m Trial 26 finished with value: 0.028347384184598923 and parameters: {'dropout': 0.0754353709886826, 'dense_units': 2048, 'f_block1': 64, 'f_block2': 16, 'l2_reg': 1.8778710109057228e-05, 'batch_size': 8}. Best is trial 15 with value: 0.027491778135299683.\u001b[0m\n",
      "\u001b[32m[I 2025-07-03 21:28:39,855]\u001b[0m Trial 27 finished with value: 0.03011934831738472 and parameters: {'dropout': 0.16117161007553196, 'dense_units': 2048, 'f_block1': 64, 'f_block2': 16, 'l2_reg': 8.285322461370598e-06, 'batch_size': 8}. Best is trial 15 with value: 0.027491778135299683.\u001b[0m\n",
      "\u001b[32m[I 2025-07-03 21:29:01,932]\u001b[0m Trial 28 pruned. \u001b[0m\n",
      "\u001b[32m[I 2025-07-03 21:29:26,472]\u001b[0m Trial 29 pruned. \u001b[0m\n",
      "\u001b[32m[I 2025-07-03 21:29:47,519]\u001b[0m Trial 30 pruned. \u001b[0m\n",
      "\u001b[32m[I 2025-07-03 21:30:08,388]\u001b[0m Trial 31 pruned. \u001b[0m\n",
      "\u001b[32m[I 2025-07-03 21:30:47,931]\u001b[0m Trial 32 finished with value: 0.028742555528879166 and parameters: {'dropout': 0.026300742147735368, 'dense_units': 2048, 'f_block1': 32, 'f_block2': 16, 'l2_reg': 1.0241271842138142e-06, 'batch_size': 8}. Best is trial 15 with value: 0.027491778135299683.\u001b[0m\n",
      "\u001b[32m[I 2025-07-03 21:31:59,887]\u001b[0m Trial 33 finished with value: 0.030569931492209435 and parameters: {'dropout': 0.0726102435208471, 'dense_units': 1024, 'f_block1': 64, 'f_block2': 8, 'l2_reg': 4.3502390713719446e-05, 'batch_size': 8}. Best is trial 15 with value: 0.027491778135299683.\u001b[0m\n",
      "\u001b[32m[I 2025-07-03 21:32:22,714]\u001b[0m Trial 34 pruned. \u001b[0m\n",
      "\u001b[32m[I 2025-07-03 21:32:42,093]\u001b[0m Trial 35 pruned. \u001b[0m\n",
      "\u001b[32m[I 2025-07-03 21:33:59,661]\u001b[0m Trial 36 finished with value: 0.029217878356575966 and parameters: {'dropout': 0.013563125745374037, 'dense_units': 512, 'f_block1': 64, 'f_block2': 32, 'l2_reg': 1.838031523760112e-05, 'batch_size': 8}. Best is trial 15 with value: 0.027491778135299683.\u001b[0m\n",
      "\u001b[32m[I 2025-07-03 21:34:18,633]\u001b[0m Trial 37 pruned. \u001b[0m\n",
      "\u001b[32m[I 2025-07-03 21:34:40,288]\u001b[0m Trial 38 pruned. \u001b[0m\n",
      "\u001b[32m[I 2025-07-03 21:35:43,652]\u001b[0m Trial 39 finished with value: 0.026676148176193237 and parameters: {'dropout': 0.05939328337603822, 'dense_units': 4096, 'f_block1': 64, 'f_block2': 16, 'l2_reg': 4.002865107125327e-06, 'batch_size': 8}. Best is trial 39 with value: 0.026676148176193237.\u001b[0m\n",
      "\u001b[32m[I 2025-07-03 21:36:47,902]\u001b[0m Trial 40 finished with value: 0.024963678792119026 and parameters: {'dropout': 0.061111771597281095, 'dense_units': 4096, 'f_block1': 64, 'f_block2': 16, 'l2_reg': 3.882870487236907e-06, 'batch_size': 8}. Best is trial 40 with value: 0.024963678792119026.\u001b[0m\n",
      "\u001b[32m[I 2025-07-03 21:37:44,497]\u001b[0m Trial 41 finished with value: 0.025991078466176987 and parameters: {'dropout': 0.06622368485757085, 'dense_units': 4096, 'f_block1': 64, 'f_block2': 16, 'l2_reg': 4.076727677275507e-06, 'batch_size': 8}. Best is trial 40 with value: 0.024963678792119026.\u001b[0m\n",
      "\u001b[32m[I 2025-07-03 21:38:33,095]\u001b[0m Trial 42 finished with value: 0.025656957179307938 and parameters: {'dropout': 0.042402580524211704, 'dense_units': 4096, 'f_block1': 64, 'f_block2': 16, 'l2_reg': 3.976037137874907e-06, 'batch_size': 8}. Best is trial 40 with value: 0.024963678792119026.\u001b[0m\n",
      "\u001b[32m[I 2025-07-03 21:39:35,926]\u001b[0m Trial 43 finished with value: 0.027336254715919495 and parameters: {'dropout': 0.04809862629544727, 'dense_units': 4096, 'f_block1': 64, 'f_block2': 16, 'l2_reg': 3.842350908432269e-06, 'batch_size': 8}. Best is trial 40 with value: 0.024963678792119026.\u001b[0m\n",
      "\u001b[32m[I 2025-07-03 21:40:47,722]\u001b[0m Trial 44 finished with value: 0.025109466165304184 and parameters: {'dropout': 0.04889013831358671, 'dense_units': 4096, 'f_block1': 64, 'f_block2': 16, 'l2_reg': 3.928814067721502e-06, 'batch_size': 8}. Best is trial 40 with value: 0.024963678792119026.\u001b[0m\n",
      "\u001b[32m[I 2025-07-03 21:41:45,302]\u001b[0m Trial 45 finished with value: 0.026190299540758133 and parameters: {'dropout': 0.0897535397256583, 'dense_units': 4096, 'f_block1': 64, 'f_block2': 16, 'l2_reg': 4.617373897588512e-06, 'batch_size': 8}. Best is trial 40 with value: 0.024963678792119026.\u001b[0m\n",
      "\u001b[32m[I 2025-07-03 21:42:47,830]\u001b[0m Trial 46 finished with value: 0.026043349876999855 and parameters: {'dropout': 0.10227956019415892, 'dense_units': 4096, 'f_block1': 64, 'f_block2': 16, 'l2_reg': 3.193925356290635e-06, 'batch_size': 8}. Best is trial 40 with value: 0.024963678792119026.\u001b[0m\n",
      "\u001b[32m[I 2025-07-03 21:43:42,836]\u001b[0m Trial 47 finished with value: 0.026325847953557968 and parameters: {'dropout': 0.1302687334813103, 'dense_units': 4096, 'f_block1': 64, 'f_block2': 16, 'l2_reg': 3.021649765243473e-06, 'batch_size': 8}. Best is trial 40 with value: 0.024963678792119026.\u001b[0m\n",
      "\u001b[32m[I 2025-07-03 21:44:36,356]\u001b[0m Trial 48 finished with value: 0.024754716083407402 and parameters: {'dropout': 0.035578962488306054, 'dense_units': 4096, 'f_block1': 64, 'f_block2': 16, 'l2_reg': 3.2358178572837686e-06, 'batch_size': 8}. Best is trial 48 with value: 0.024754716083407402.\u001b[0m\n",
      "\u001b[32m[I 2025-07-03 21:45:01,746]\u001b[0m Trial 49 pruned. \u001b[0m\n",
      "\n",
      "Best hyperparameters:\n",
      "dropout: 0.035578962488306054\n",
      "dense_units: 4096\n",
      "f_block1: 64\n",
      "f_block2: 16\n",
      "l2_reg: 3.2358178572837686e-06\n",
      "batch_size: 8\n",
      "mid_mode: median\n",
      "w_mae: 0.8\n",
      "w_ssim: 0.2\n",
      "\n",
      "Saved best parameters to: /home/ameral/master/param2weld/experiments/optuna/results/median/mae80_ssim20/best_hyperparams_2025-07-03_21-45-01.json\n"
     ]
    }
   ],
   "source": [
    "!python -m param2weld.scripts.tune_optuna --fixed_params ./experiments/optuna/configs/fixed_median_mae80_ssim20.json"
   ]
  },
  {
   "cell_type": "code",
   "execution_count": 10,
   "id": "99167093",
   "metadata": {},
   "outputs": [
    {
     "name": "stdout",
     "output_type": "stream",
     "text": [
      "2025-07-03 21:45:11.870750: I external/local_xla/xla/tsl/cuda/cudart_stub.cc:32] Could not find cuda drivers on your machine, GPU will not be used.\n",
      "2025-07-03 21:45:11.875576: I external/local_xla/xla/tsl/cuda/cudart_stub.cc:32] Could not find cuda drivers on your machine, GPU will not be used.\n",
      "2025-07-03 21:45:11.886391: E external/local_xla/xla/stream_executor/cuda/cuda_fft.cc:467] Unable to register cuFFT factory: Attempting to register factory for plugin cuFFT when one has already been registered\n",
      "WARNING: All log messages before absl::InitializeLog() is called are written to STDERR\n",
      "E0000 00:00:1751571911.900811 2219837 cuda_dnn.cc:8579] Unable to register cuDNN factory: Attempting to register factory for plugin cuDNN when one has already been registered\n",
      "E0000 00:00:1751571911.904201 2219837 cuda_blas.cc:1407] Unable to register cuBLAS factory: Attempting to register factory for plugin cuBLAS when one has already been registered\n",
      "W0000 00:00:1751571911.916729 2219837 computation_placer.cc:177] computation placer already registered. Please check linkage and avoid linking the same target more than once.\n",
      "W0000 00:00:1751571911.916761 2219837 computation_placer.cc:177] computation placer already registered. Please check linkage and avoid linking the same target more than once.\n",
      "W0000 00:00:1751571911.916769 2219837 computation_placer.cc:177] computation placer already registered. Please check linkage and avoid linking the same target more than once.\n",
      "W0000 00:00:1751571911.916773 2219837 computation_placer.cc:177] computation placer already registered. Please check linkage and avoid linking the same target more than once.\n",
      "2025-07-03 21:45:11.921298: I tensorflow/core/platform/cpu_feature_guard.cc:210] This TensorFlow binary is optimized to use available CPU instructions in performance-critical operations.\n",
      "To enable the following instructions: AVX2 FMA, in other operations, rebuild TensorFlow with the appropriate compiler flags.\n",
      "\u001b[32m[I 2025-07-03 21:45:16,440]\u001b[0m A new study created in memory with name: no-name-a5a0cfd0-5e75-49dc-bbf0-fe0dd594f92c\u001b[0m\n",
      "2025-07-03 21:45:18.061631: E external/local_xla/xla/stream_executor/cuda/cuda_platform.cc:51] failed call to cuInit: INTERNAL: CUDA error: Failed call to cuInit: UNKNOWN ERROR (303)\n",
      "\u001b[32m[I 2025-07-03 21:46:27,763]\u001b[0m Trial 0 finished with value: 0.023915139958262444 and parameters: {'dropout': 0.05969406916661466, 'dense_units': 2048, 'f_block1': 64, 'f_block2': 8, 'l2_reg': 3.226525971677702e-06, 'batch_size': 8}. Best is trial 0 with value: 0.023915139958262444.\u001b[0m\n",
      "\u001b[32m[I 2025-07-03 21:48:25,866]\u001b[0m Trial 1 finished with value: 0.023046191781759262 and parameters: {'dropout': 0.0013439507685521603, 'dense_units': 2048, 'f_block1': 64, 'f_block2': 8, 'l2_reg': 2.3377845111446403e-06, 'batch_size': 32}. Best is trial 1 with value: 0.023046191781759262.\u001b[0m\n",
      "\u001b[32m[I 2025-07-03 21:49:48,587]\u001b[0m Trial 2 finished with value: 0.03008906915783882 and parameters: {'dropout': 0.14476649437142441, 'dense_units': 1024, 'f_block1': 32, 'f_block2': 8, 'l2_reg': 9.639401065254094e-05, 'batch_size': 16}. Best is trial 1 with value: 0.023046191781759262.\u001b[0m\n",
      "\u001b[32m[I 2025-07-03 21:51:12,400]\u001b[0m Trial 3 finished with value: 0.029973339289426804 and parameters: {'dropout': 0.391388589999645, 'dense_units': 2048, 'f_block1': 64, 'f_block2': 8, 'l2_reg': 4.703196922729011e-05, 'batch_size': 8}. Best is trial 1 with value: 0.023046191781759262.\u001b[0m\n",
      "\u001b[32m[I 2025-07-03 21:51:38,780]\u001b[0m Trial 4 finished with value: 0.17816247045993805 and parameters: {'dropout': 0.33353447186061413, 'dense_units': 512, 'f_block1': 64, 'f_block2': 8, 'l2_reg': 3.497027387014358e-06, 'batch_size': 16}. Best is trial 1 with value: 0.023046191781759262.\u001b[0m\n",
      "\u001b[32m[I 2025-07-03 21:53:44,852]\u001b[0m Trial 5 finished with value: 0.037971172481775284 and parameters: {'dropout': 0.14650964481090273, 'dense_units': 128, 'f_block1': 32, 'f_block2': 16, 'l2_reg': 2.472927534883892e-05, 'batch_size': 16}. Best is trial 1 with value: 0.023046191781759262.\u001b[0m\n",
      "\u001b[32m[I 2025-07-03 21:54:45,734]\u001b[0m Trial 6 finished with value: 0.032079633325338364 and parameters: {'dropout': 0.1941010050044831, 'dense_units': 512, 'f_block1': 64, 'f_block2': 8, 'l2_reg': 3.0798891071247535e-06, 'batch_size': 16}. Best is trial 1 with value: 0.023046191781759262.\u001b[0m\n",
      "\u001b[32m[I 2025-07-03 21:56:09,649]\u001b[0m Trial 7 finished with value: 0.026273831725120544 and parameters: {'dropout': 0.09153434202187816, 'dense_units': 2048, 'f_block1': 32, 'f_block2': 8, 'l2_reg': 6.1377698739708465e-06, 'batch_size': 32}. Best is trial 1 with value: 0.023046191781759262.\u001b[0m\n",
      "\u001b[32m[I 2025-07-03 21:56:18,537]\u001b[0m Trial 8 finished with value: 0.4772907793521881 and parameters: {'dropout': 0.303177638002699, 'dense_units': 2048, 'f_block1': 32, 'f_block2': 8, 'l2_reg': 1.4029060681131921e-06, 'batch_size': 8}. Best is trial 1 with value: 0.023046191781759262.\u001b[0m\n",
      "\u001b[32m[I 2025-07-03 21:57:25,775]\u001b[0m Trial 9 finished with value: 0.043479375541210175 and parameters: {'dropout': 0.32043147697187363, 'dense_units': 256, 'f_block1': 32, 'f_block2': 8, 'l2_reg': 1.86552027427821e-06, 'batch_size': 8}. Best is trial 1 with value: 0.023046191781759262.\u001b[0m\n",
      "\u001b[32m[I 2025-07-03 21:57:48,625]\u001b[0m Trial 10 pruned. \u001b[0m\n",
      "\u001b[32m[I 2025-07-03 21:58:05,674]\u001b[0m Trial 11 pruned. \u001b[0m\n",
      "\u001b[32m[I 2025-07-03 21:58:39,798]\u001b[0m Trial 12 pruned. \u001b[0m\n",
      "\u001b[32m[I 2025-07-03 21:59:51,134]\u001b[0m Trial 13 finished with value: 0.01913689449429512 and parameters: {'dropout': 0.06255114057699497, 'dense_units': 4096, 'f_block1': 64, 'f_block2': 8, 'l2_reg': 2.6596437661786304e-06, 'batch_size': 8}. Best is trial 13 with value: 0.01913689449429512.\u001b[0m\n",
      "\u001b[32m[I 2025-07-03 22:00:15,754]\u001b[0m Trial 14 pruned. \u001b[0m\n",
      "\u001b[32m[I 2025-07-03 22:01:36,055]\u001b[0m Trial 15 finished with value: 0.018706977367401123 and parameters: {'dropout': 0.12329540211381321, 'dense_units': 4096, 'f_block1': 64, 'f_block2': 16, 'l2_reg': 2.2828158294987653e-06, 'batch_size': 8}. Best is trial 15 with value: 0.018706977367401123.\u001b[0m\n",
      "\u001b[32m[I 2025-07-03 22:02:37,064]\u001b[0m Trial 16 finished with value: 0.021642589941620827 and parameters: {'dropout': 0.1301913237131541, 'dense_units': 4096, 'f_block1': 64, 'f_block2': 16, 'l2_reg': 5.636165132763774e-06, 'batch_size': 8}. Best is trial 15 with value: 0.018706977367401123.\u001b[0m\n",
      "\u001b[32m[I 2025-07-03 22:03:54,531]\u001b[0m Trial 17 finished with value: 0.02322128787636757 and parameters: {'dropout': 0.21346419416861748, 'dense_units': 4096, 'f_block1': 64, 'f_block2': 16, 'l2_reg': 1.627690831375368e-05, 'batch_size': 8}. Best is trial 15 with value: 0.018706977367401123.\u001b[0m\n",
      "\u001b[32m[I 2025-07-03 22:05:28,242]\u001b[0m Trial 18 finished with value: 0.020258096978068352 and parameters: {'dropout': 0.21792206709474654, 'dense_units': 4096, 'f_block1': 64, 'f_block2': 16, 'l2_reg': 1.5107931810067898e-06, 'batch_size': 8}. Best is trial 15 with value: 0.018706977367401123.\u001b[0m\n",
      "\u001b[32m[I 2025-07-03 22:05:47,329]\u001b[0m Trial 19 pruned. \u001b[0m\n",
      "\u001b[32m[I 2025-07-03 22:06:08,359]\u001b[0m Trial 20 pruned. \u001b[0m\n",
      "\u001b[32m[I 2025-07-03 22:06:58,229]\u001b[0m Trial 21 finished with value: 0.021361438557505608 and parameters: {'dropout': 0.2364556956907937, 'dense_units': 4096, 'f_block1': 64, 'f_block2': 16, 'l2_reg': 1.8027911180879465e-06, 'batch_size': 8}. Best is trial 15 with value: 0.018706977367401123.\u001b[0m\n",
      "\u001b[32m[I 2025-07-03 22:07:42,577]\u001b[0m Trial 22 finished with value: 0.022381572052836418 and parameters: {'dropout': 0.25833672407551694, 'dense_units': 4096, 'f_block1': 64, 'f_block2': 16, 'l2_reg': 2.2114601841305544e-06, 'batch_size': 8}. Best is trial 15 with value: 0.018706977367401123.\u001b[0m\n",
      "\u001b[32m[I 2025-07-03 22:08:33,206]\u001b[0m Trial 23 finished with value: 0.02216627635061741 and parameters: {'dropout': 0.19377110417458296, 'dense_units': 4096, 'f_block1': 64, 'f_block2': 16, 'l2_reg': 1.4027386670513523e-06, 'batch_size': 8}. Best is trial 15 with value: 0.018706977367401123.\u001b[0m\n",
      "\u001b[32m[I 2025-07-03 22:09:05,828]\u001b[0m Trial 24 pruned. \u001b[0m\n",
      "\u001b[32m[I 2025-07-03 22:10:05,031]\u001b[0m Trial 25 finished with value: 0.02107258513569832 and parameters: {'dropout': 0.2715573175365744, 'dense_units': 4096, 'f_block1': 64, 'f_block2': 32, 'l2_reg': 2.7421616209222494e-06, 'batch_size': 8}. Best is trial 15 with value: 0.018706977367401123.\u001b[0m\n",
      "\u001b[32m[I 2025-07-03 22:11:01,428]\u001b[0m Trial 26 finished with value: 0.021197689697146416 and parameters: {'dropout': 0.05771233483980562, 'dense_units': 4096, 'f_block1': 32, 'f_block2': 16, 'l2_reg': 1.5402606909724716e-06, 'batch_size': 8}. Best is trial 15 with value: 0.018706977367401123.\u001b[0m\n",
      "\u001b[32m[I 2025-07-03 22:11:52,865]\u001b[0m Trial 27 finished with value: 0.021196413785219193 and parameters: {'dropout': 0.1653733278290757, 'dense_units': 4096, 'f_block1': 64, 'f_block2': 16, 'l2_reg': 4.601273460799924e-06, 'batch_size': 8}. Best is trial 15 with value: 0.018706977367401123.\u001b[0m\n",
      "\u001b[32m[I 2025-07-03 22:13:02,312]\u001b[0m Trial 28 finished with value: 0.018823260441422462 and parameters: {'dropout': 0.03725138318924613, 'dense_units': 4096, 'f_block1': 64, 'f_block2': 32, 'l2_reg': 2.203173534426581e-06, 'batch_size': 8}. Best is trial 15 with value: 0.018706977367401123.\u001b[0m\n",
      "\u001b[32m[I 2025-07-03 22:13:26,513]\u001b[0m Trial 29 pruned. \u001b[0m\n",
      "\u001b[32m[I 2025-07-03 22:13:49,153]\u001b[0m Trial 30 pruned. \u001b[0m\n",
      "\u001b[32m[I 2025-07-03 22:14:51,585]\u001b[0m Trial 31 finished with value: 0.019381901249289513 and parameters: {'dropout': 0.0856160952977645, 'dense_units': 4096, 'f_block1': 64, 'f_block2': 32, 'l2_reg': 2.4065453809706833e-06, 'batch_size': 8}. Best is trial 15 with value: 0.018706977367401123.\u001b[0m\n",
      "\u001b[32m[I 2025-07-03 22:16:01,401]\u001b[0m Trial 32 finished with value: 0.018538909032940865 and parameters: {'dropout': 0.08706606937354339, 'dense_units': 4096, 'f_block1': 64, 'f_block2': 32, 'l2_reg': 2.5526393576742576e-06, 'batch_size': 8}. Best is trial 32 with value: 0.018538909032940865.\u001b[0m\n",
      "\u001b[32m[I 2025-07-03 22:16:46,525]\u001b[0m Trial 33 pruned. \u001b[0m\n",
      "\u001b[32m[I 2025-07-03 22:17:14,061]\u001b[0m Trial 34 pruned. \u001b[0m\n",
      "\u001b[32m[I 2025-07-03 22:17:38,696]\u001b[0m Trial 35 pruned. \u001b[0m\n",
      "\u001b[32m[I 2025-07-03 22:17:48,296]\u001b[0m Trial 36 finished with value: 0.4712715148925781 and parameters: {'dropout': 0.018591066288443064, 'dense_units': 4096, 'f_block1': 32, 'f_block2': 8, 'l2_reg': 8.806749661196795e-05, 'batch_size': 16}. Best is trial 32 with value: 0.018538909032940865.\u001b[0m\n",
      "\u001b[32m[I 2025-07-03 22:18:07,980]\u001b[0m Trial 37 pruned. \u001b[0m\n",
      "\u001b[32m[I 2025-07-03 22:18:30,600]\u001b[0m Trial 38 pruned. \u001b[0m\n",
      "\u001b[32m[I 2025-07-03 22:18:49,852]\u001b[0m Trial 39 pruned. \u001b[0m\n",
      "\u001b[32m[I 2025-07-03 22:19:09,207]\u001b[0m Trial 40 pruned. \u001b[0m\n",
      "\u001b[32m[I 2025-07-03 22:20:16,789]\u001b[0m Trial 41 finished with value: 0.019054319709539413 and parameters: {'dropout': 0.09176388270031079, 'dense_units': 4096, 'f_block1': 64, 'f_block2': 32, 'l2_reg': 2.4719263826017303e-06, 'batch_size': 8}. Best is trial 32 with value: 0.018538909032940865.\u001b[0m\n",
      "\u001b[32m[I 2025-07-03 22:21:26,742]\u001b[0m Trial 42 finished with value: 0.018937308341264725 and parameters: {'dropout': 0.07431114102920762, 'dense_units': 4096, 'f_block1': 64, 'f_block2': 32, 'l2_reg': 2.612957017230814e-06, 'batch_size': 8}. Best is trial 32 with value: 0.018538909032940865.\u001b[0m\n",
      "\u001b[32m[I 2025-07-03 22:22:22,032]\u001b[0m Trial 43 finished with value: 0.020619045943021774 and parameters: {'dropout': 0.09269395334276948, 'dense_units': 4096, 'f_block1': 64, 'f_block2': 32, 'l2_reg': 2.100889676775615e-06, 'batch_size': 8}. Best is trial 32 with value: 0.018538909032940865.\u001b[0m\n",
      "\u001b[32m[I 2025-07-03 22:22:55,145]\u001b[0m Trial 44 pruned. \u001b[0m\n",
      "\u001b[32m[I 2025-07-03 22:23:15,906]\u001b[0m Trial 45 pruned. \u001b[0m\n",
      "\u001b[32m[I 2025-07-03 22:23:40,326]\u001b[0m Trial 46 pruned. \u001b[0m\n",
      "\u001b[32m[I 2025-07-03 22:24:02,976]\u001b[0m Trial 47 pruned. \u001b[0m\n",
      "\u001b[32m[I 2025-07-03 22:24:27,578]\u001b[0m Trial 48 pruned. \u001b[0m\n",
      "\u001b[32m[I 2025-07-03 22:25:26,504]\u001b[0m Trial 49 finished with value: 0.02116231434047222 and parameters: {'dropout': 0.047480007705012414, 'dense_units': 4096, 'f_block1': 64, 'f_block2': 32, 'l2_reg': 5.343641618869628e-06, 'batch_size': 8}. Best is trial 32 with value: 0.018538909032940865.\u001b[0m\n",
      "\n",
      "Best hyperparameters:\n",
      "dropout: 0.08706606937354339\n",
      "dense_units: 4096\n",
      "f_block1: 64\n",
      "f_block2: 32\n",
      "l2_reg: 2.5526393576742576e-06\n",
      "batch_size: 8\n",
      "mid_mode: mean\n",
      "w_mae: 0.8\n",
      "w_ssim: 0.2\n",
      "\n",
      "Saved best parameters to: /home/ameral/master/param2weld/experiments/optuna/results/mean/mae80_ssim20/best_hyperparams_2025-07-03_22-25-26.json\n"
     ]
    }
   ],
   "source": [
    "!python -m param2weld.scripts.tune_optuna --fixed_params ./experiments/optuna/configs/fixed_mean_mae80_ssim20.json"
   ]
  },
  {
   "cell_type": "markdown",
   "id": "4d33bf43",
   "metadata": {},
   "source": [
    "#### Train with Median Representative Keyhole Image"
   ]
  },
  {
   "cell_type": "code",
   "execution_count": 24,
   "id": "9478616b",
   "metadata": {},
   "outputs": [
    {
     "name": "stdout",
     "output_type": "stream",
     "text": [
      "experiments/optuna/results/median/mae80_ssim20/:\n",
      "best_hyperparams_2025-07-03_21-45-01.json\n"
     ]
    }
   ],
   "source": [
    "!ls -R experiments/optuna/results/median/mae80_ssim20/"
   ]
  },
  {
   "cell_type": "code",
   "execution_count": 25,
   "id": "0f88cbbf",
   "metadata": {},
   "outputs": [
    {
     "name": "stdout",
     "output_type": "stream",
     "text": [
      "2025-07-03 22:30:10.411652: I external/local_xla/xla/tsl/cuda/cudart_stub.cc:32] Could not find cuda drivers on your machine, GPU will not be used.\n",
      "2025-07-03 22:30:10.415266: I external/local_xla/xla/tsl/cuda/cudart_stub.cc:32] Could not find cuda drivers on your machine, GPU will not be used.\n",
      "2025-07-03 22:30:10.423176: E external/local_xla/xla/stream_executor/cuda/cuda_fft.cc:467] Unable to register cuFFT factory: Attempting to register factory for plugin cuFFT when one has already been registered\n",
      "WARNING: All log messages before absl::InitializeLog() is called are written to STDERR\n",
      "E0000 00:00:1751574610.438551 2604499 cuda_dnn.cc:8579] Unable to register cuDNN factory: Attempting to register factory for plugin cuDNN when one has already been registered\n",
      "E0000 00:00:1751574610.442225 2604499 cuda_blas.cc:1407] Unable to register cuBLAS factory: Attempting to register factory for plugin cuBLAS when one has already been registered\n",
      "W0000 00:00:1751574610.453414 2604499 computation_placer.cc:177] computation placer already registered. Please check linkage and avoid linking the same target more than once.\n",
      "W0000 00:00:1751574610.453435 2604499 computation_placer.cc:177] computation placer already registered. Please check linkage and avoid linking the same target more than once.\n",
      "W0000 00:00:1751574610.453439 2604499 computation_placer.cc:177] computation placer already registered. Please check linkage and avoid linking the same target more than once.\n",
      "W0000 00:00:1751574610.453442 2604499 computation_placer.cc:177] computation placer already registered. Please check linkage and avoid linking the same target more than once.\n",
      "2025-07-03 22:30:10.456374: I tensorflow/core/platform/cpu_feature_guard.cc:210] This TensorFlow binary is optimized to use available CPU instructions in performance-critical operations.\n",
      "To enable the following instructions: AVX2 FMA, in other operations, rebuild TensorFlow with the appropriate compiler flags.\n",
      "[22:30:13] INFO - Loading hyperparameters from: experiments/optuna/results/median/mae80_ssim20/best_hyperparams_2025-07-03_21-45-01.json\n",
      "Configuration for training:\n",
      "  mid_mode:       median\n",
      "  w_mae:          0.8\n",
      "  w_ssim:         0.2\n",
      "  batch_size:     8\n",
      "  dropout:        0.035578962488306054\n",
      "  dense_units:    4096\n",
      "  filters_block1: 64\n",
      "  filters_block2: 16\n",
      "  l2_reg:         3.2358178572837686e-06\n",
      "  learning_rate:  0.0003\n",
      "  epochs:         500\n",
      "  patience_es:    50\n",
      "  patience_lr:    10\n",
      "\n",
      "Starting fold 1/10\n",
      "2025-07-03 22:30:15.169925: E external/local_xla/xla/stream_executor/cuda/cuda_platform.cc:51] failed call to cuInit: INTERNAL: CUDA error: Failed call to cuInit: UNKNOWN ERROR (303)\n",
      "Fold 0 done: val_loss=0.0228 | MAE=0.0155 | RMSE=0.0800\n",
      "\n",
      "Starting fold 2/10\n",
      "Fold 1 done: val_loss=0.0193 | MAE=0.0133 | RMSE=0.0606\n",
      "\n",
      "Starting fold 3/10\n",
      "Fold 2 done: val_loss=0.0110 | MAE=0.0095 | RMSE=0.0354\n",
      "\n",
      "Starting fold 4/10\n",
      "Fold 3 done: val_loss=0.0176 | MAE=0.0120 | RMSE=0.0503\n",
      "\n",
      "Starting fold 5/10\n",
      "Fold 4 done: val_loss=0.0375 | MAE=0.0201 | RMSE=0.0929\n",
      "\n",
      "Starting fold 6/10\n",
      "Fold 5 done: val_loss=0.0313 | MAE=0.0185 | RMSE=0.0807\n",
      "\n",
      "Starting fold 7/10\n",
      "Fold 6 done: val_loss=0.0126 | MAE=0.0093 | RMSE=0.0421\n",
      "\n",
      "Starting fold 8/10\n",
      "Fold 7 done: val_loss=0.0084 | MAE=0.0069 | RMSE=0.0307\n",
      "\n",
      "Starting fold 9/10\n",
      "Fold 8 done: val_loss=0.0240 | MAE=0.0154 | RMSE=0.0727\n",
      "\n",
      "Starting fold 10/10\n",
      "Fold 9 done: val_loss=0.0082 | MAE=0.0064 | RMSE=0.0295\n",
      "\n",
      "Average across 10 folds — Loss: 0.0193 | MAE: 0.0127 | RMSE: 0.0575\n"
     ]
    }
   ],
   "source": [
    "!python3 -m param2weld.cli.main train \\\n",
    "  --data_dir ./data \\\n",
    "  --params_json ./experiments/optuna/results/median/mae80_ssim20/best_hyperparams_2025-07-03_21-45-01.json"
   ]
  },
  {
   "cell_type": "markdown",
   "id": "67405be9",
   "metadata": {},
   "source": [
    "#### Train with Mean Representative Keyhole Image"
   ]
  },
  {
   "cell_type": "code",
   "execution_count": 28,
   "id": "9ad852f9",
   "metadata": {},
   "outputs": [
    {
     "name": "stdout",
     "output_type": "stream",
     "text": [
      "2025-07-03 23:00:43.381240: I external/local_xla/xla/tsl/cuda/cudart_stub.cc:32] Could not find cuda drivers on your machine, GPU will not be used.\n",
      "2025-07-03 23:00:43.384039: I external/local_xla/xla/tsl/cuda/cudart_stub.cc:32] Could not find cuda drivers on your machine, GPU will not be used.\n",
      "2025-07-03 23:00:43.391230: E external/local_xla/xla/stream_executor/cuda/cuda_fft.cc:467] Unable to register cuFFT factory: Attempting to register factory for plugin cuFFT when one has already been registered\n",
      "WARNING: All log messages before absl::InitializeLog() is called are written to STDERR\n",
      "E0000 00:00:1751576443.403471 2776629 cuda_dnn.cc:8579] Unable to register cuDNN factory: Attempting to register factory for plugin cuDNN when one has already been registered\n",
      "E0000 00:00:1751576443.406873 2776629 cuda_blas.cc:1407] Unable to register cuBLAS factory: Attempting to register factory for plugin cuBLAS when one has already been registered\n",
      "W0000 00:00:1751576443.418138 2776629 computation_placer.cc:177] computation placer already registered. Please check linkage and avoid linking the same target more than once.\n",
      "W0000 00:00:1751576443.418195 2776629 computation_placer.cc:177] computation placer already registered. Please check linkage and avoid linking the same target more than once.\n",
      "W0000 00:00:1751576443.418200 2776629 computation_placer.cc:177] computation placer already registered. Please check linkage and avoid linking the same target more than once.\n",
      "W0000 00:00:1751576443.418203 2776629 computation_placer.cc:177] computation placer already registered. Please check linkage and avoid linking the same target more than once.\n",
      "2025-07-03 23:00:43.421545: I tensorflow/core/platform/cpu_feature_guard.cc:210] This TensorFlow binary is optimized to use available CPU instructions in performance-critical operations.\n",
      "To enable the following instructions: AVX2 FMA, in other operations, rebuild TensorFlow with the appropriate compiler flags.\n",
      "[23:00:45] INFO - Loading hyperparameters from: experiments/optuna/results/mean/mae80_ssim20/best_hyperparams_2025-07-03_22-25-26.json\n",
      "Configuration for training:\n",
      "  mid_mode:       mean\n",
      "  w_mae:          0.8\n",
      "  w_ssim:         0.2\n",
      "  batch_size:     8\n",
      "  dropout:        0.08706606937354339\n",
      "  dense_units:    4096\n",
      "  filters_block1: 64\n",
      "  filters_block2: 32\n",
      "  l2_reg:         2.5526393576742576e-06\n",
      "  learning_rate:  0.0003\n",
      "  epochs:         500\n",
      "  patience_es:    50\n",
      "  patience_lr:    10\n",
      "\n",
      "Starting fold 1/10\n",
      "2025-07-03 23:00:47.280287: E external/local_xla/xla/stream_executor/cuda/cuda_platform.cc:51] failed call to cuInit: INTERNAL: CUDA error: Failed call to cuInit: UNKNOWN ERROR (303)\n",
      "Fold 0 done: val_loss=0.0142 | MAE=0.0116 | RMSE=0.0484\n",
      "\n",
      "Starting fold 2/10\n",
      "Fold 1 done: val_loss=0.0147 | MAE=0.0109 | RMSE=0.0392\n",
      "\n",
      "Starting fold 3/10\n",
      "Fold 2 done: val_loss=0.0191 | MAE=0.0128 | RMSE=0.0477\n",
      "\n",
      "Starting fold 4/10\n",
      "Fold 3 done: val_loss=0.0078 | MAE=0.0070 | RMSE=0.0263\n",
      "\n",
      "Starting fold 5/10\n",
      "Fold 4 done: val_loss=0.0157 | MAE=0.0118 | RMSE=0.0409\n",
      "\n",
      "Starting fold 6/10\n",
      "Fold 5 done: val_loss=0.0173 | MAE=0.0124 | RMSE=0.0424\n",
      "\n",
      "Starting fold 7/10\n",
      "Fold 6 done: val_loss=0.0122 | MAE=0.0092 | RMSE=0.0314\n",
      "\n",
      "Starting fold 8/10\n",
      "Fold 7 done: val_loss=0.0126 | MAE=0.0100 | RMSE=0.0375\n",
      "\n",
      "Starting fold 9/10\n",
      "Fold 8 done: val_loss=0.0207 | MAE=0.0142 | RMSE=0.0638\n",
      "\n",
      "Starting fold 10/10\n",
      "Fold 9 done: val_loss=0.0283 | MAE=0.0166 | RMSE=0.0657\n",
      "\n",
      "Average across 10 folds — Loss: 0.0163 | MAE: 0.0116 | RMSE: 0.0443\n"
     ]
    }
   ],
   "source": [
    "!python3 -m param2weld.cli.main train \\\n",
    "  --data_dir ./data \\\n",
    "  --params_json ./experiments/optuna/results/mean/mae80_ssim20/best_hyperparams_2025-07-03_22-25-26.json"
   ]
  },
  {
   "cell_type": "markdown",
   "id": "28e2e9ac",
   "metadata": {},
   "source": [
    "### Tensorboard"
   ]
  },
  {
   "cell_type": "code",
   "execution_count": 27,
   "id": "96654bce",
   "metadata": {},
   "outputs": [
    {
     "name": "stdout",
     "output_type": "stream",
     "text": [
      "/home/ameral/master/param2weld/.venv/lib/python3.12/site-packages/tensorboard/default.py:30: UserWarning: pkg_resources is deprecated as an API. See https://setuptools.pypa.io/en/latest/pkg_resources.html. The pkg_resources package is slated for removal as early as 2025-11-30. Refrain from using this package or pin to Setuptools<81.\n",
      "  import pkg_resources\n",
      "2025-07-03 22:52:25.674029: I external/local_xla/xla/tsl/cuda/cudart_stub.cc:32] Could not find cuda drivers on your machine, GPU will not be used.\n",
      "2025-07-03 22:52:25.676812: I external/local_xla/xla/tsl/cuda/cudart_stub.cc:32] Could not find cuda drivers on your machine, GPU will not be used.\n",
      "2025-07-03 22:52:25.684165: E external/local_xla/xla/stream_executor/cuda/cuda_fft.cc:467] Unable to register cuFFT factory: Attempting to register factory for plugin cuFFT when one has already been registered\n",
      "WARNING: All log messages before absl::InitializeLog() is called are written to STDERR\n",
      "E0000 00:00:1751575945.697410 2776127 cuda_dnn.cc:8579] Unable to register cuDNN factory: Attempting to register factory for plugin cuDNN when one has already been registered\n",
      "E0000 00:00:1751575945.701212 2776127 cuda_blas.cc:1407] Unable to register cuBLAS factory: Attempting to register factory for plugin cuBLAS when one has already been registered\n",
      "W0000 00:00:1751575945.713360 2776127 computation_placer.cc:177] computation placer already registered. Please check linkage and avoid linking the same target more than once.\n",
      "W0000 00:00:1751575945.713382 2776127 computation_placer.cc:177] computation placer already registered. Please check linkage and avoid linking the same target more than once.\n",
      "W0000 00:00:1751575945.713386 2776127 computation_placer.cc:177] computation placer already registered. Please check linkage and avoid linking the same target more than once.\n",
      "W0000 00:00:1751575945.713390 2776127 computation_placer.cc:177] computation placer already registered. Please check linkage and avoid linking the same target more than once.\n",
      "2025-07-03 22:52:25.716340: I tensorflow/core/platform/cpu_feature_guard.cc:210] This TensorFlow binary is optimized to use available CPU instructions in performance-critical operations.\n",
      "To enable the following instructions: AVX2 FMA, in other operations, rebuild TensorFlow with the appropriate compiler flags.\n",
      "2025-07-03 22:52:27.997020: E external/local_xla/xla/stream_executor/cuda/cuda_platform.cc:51] failed call to cuInit: INTERNAL: CUDA error: Failed call to cuInit: UNKNOWN ERROR (303)\n",
      "\n",
      "NOTE: Using experimental fast data loading logic. To disable, pass\n",
      "    \"--load_fast=false\" and report issues on GitHub. More details:\n",
      "    https://github.com/tensorflow/tensorboard/issues/4784\n",
      "\n",
      "Serving TensorBoard on localhost; to expose to the network, use a proxy or pass --bind_all\n",
      "TensorBoard 2.19.0 at http://localhost:6006/ (Press CTRL+C to quit)\n",
      "^C\n"
     ]
    }
   ],
   "source": [
    "%load_ext tensorboard\n",
    "!tensorboard --logdir logs/mean/mae80_ssim20/"
   ]
  }
 ],
 "metadata": {
  "kernelspec": {
   "display_name": ".venv",
   "language": "python",
   "name": "python3"
  },
  "language_info": {
   "codemirror_mode": {
    "name": "ipython",
    "version": 3
   },
   "file_extension": ".py",
   "mimetype": "text/x-python",
   "name": "python",
   "nbconvert_exporter": "python",
   "pygments_lexer": "ipython3",
   "version": "3.12.3"
  }
 },
 "nbformat": 4,
 "nbformat_minor": 5
}
